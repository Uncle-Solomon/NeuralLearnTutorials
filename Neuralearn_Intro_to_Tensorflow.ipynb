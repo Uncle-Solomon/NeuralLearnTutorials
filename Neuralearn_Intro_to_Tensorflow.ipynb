{
  "nbformat": 4,
  "nbformat_minor": 0,
  "metadata": {
    "colab": {
      "provenance": [],
      "gpuType": "T4",
      "authorship_tag": "ABX9TyN9zyu4wyEn4PAsLiIS0NsC",
      "include_colab_link": true
    },
    "kernelspec": {
      "name": "python3",
      "display_name": "Python 3"
    },
    "language_info": {
      "name": "python"
    },
    "accelerator": "GPU"
  },
  "cells": [
    {
      "cell_type": "markdown",
      "metadata": {
        "id": "view-in-github",
        "colab_type": "text"
      },
      "source": [
        "<a href=\"https://colab.research.google.com/github/Uncle-Solomon/NeuralLearnTutorials/blob/main/Neuralearn_Intro_to_Tensorflow.ipynb\" target=\"_parent\"><img src=\"https://colab.research.google.com/assets/colab-badge.svg\" alt=\"Open In Colab\"/></a>"
      ]
    },
    {
      "cell_type": "code",
      "execution_count": null,
      "metadata": {
        "id": "_fDNeDVpM9BI"
      },
      "outputs": [],
      "source": [
        "import tensorflow as tf"
      ]
    },
    {
      "cell_type": "code",
      "source": [
        "tensor_zero_d = tf.constant(4)\n",
        "print(tensor_zero_d)"
      ],
      "metadata": {
        "colab": {
          "base_uri": "https://localhost:8080/"
        },
        "id": "m1-NP3viNGCr",
        "outputId": "f7390418-b6a2-4c92-ebeb-3680d504016c"
      },
      "execution_count": null,
      "outputs": [
        {
          "output_type": "stream",
          "name": "stdout",
          "text": [
            "tf.Tensor(4, shape=(), dtype=int32)\n"
          ]
        }
      ]
    },
    {
      "cell_type": "code",
      "source": [
        "tensor_one_d = tf.constant([2, 0,-3, 4, 5, 2, 11], dtype=tf.float32)\n",
        "\n",
        "casted_tensor_one_d = tf.cast(tensor_one_d, dtype=tf.bool)\n",
        "print(tensor_one_d)\n",
        "print(casted_tensor_one_d)"
      ],
      "metadata": {
        "colab": {
          "base_uri": "https://localhost:8080/"
        },
        "id": "jcAeFudhN1ah",
        "outputId": "0e742bc7-99ed-4e7e-ffd2-83f2c066d9dc"
      },
      "execution_count": null,
      "outputs": [
        {
          "output_type": "stream",
          "name": "stdout",
          "text": [
            "tf.Tensor([ 2.  0. -3.  4.  5.  2. 11.], shape=(7,), dtype=float32)\n",
            "tf.Tensor([ True False  True  True  True  True  True], shape=(7,), dtype=bool)\n"
          ]
        }
      ]
    },
    {
      "cell_type": "code",
      "source": [
        "tensor_bool = tf.constant([True, True, False])\n",
        "print(tensor_bool)"
      ],
      "metadata": {
        "colab": {
          "base_uri": "https://localhost:8080/"
        },
        "id": "Uswlvz_4k0_x",
        "outputId": "0d5ac257-2f8c-4696-f970-0e3452a3045a"
      },
      "execution_count": null,
      "outputs": [
        {
          "output_type": "stream",
          "name": "stdout",
          "text": [
            "tf.Tensor([ True  True False], shape=(3,), dtype=bool)\n"
          ]
        }
      ]
    },
    {
      "cell_type": "code",
      "source": [
        "tensor_string = tf.constant([\"Hello\", \"World\"])\n",
        "print(tensor_string)"
      ],
      "metadata": {
        "colab": {
          "base_uri": "https://localhost:8080/"
        },
        "id": "A1aRSRm_k93Y",
        "outputId": "6228bb20-9069-45fd-e73b-91b906465e37"
      },
      "execution_count": null,
      "outputs": [
        {
          "output_type": "stream",
          "name": "stdout",
          "text": [
            "tf.Tensor([b'Hello' b'World'], shape=(2,), dtype=string)\n"
          ]
        }
      ]
    },
    {
      "cell_type": "code",
      "source": [
        "tensor_two_d = tf.constant([\n",
        "    [1, 2, 0],\n",
        "    [3,5,-1],\n",
        "    [1,5,6],\n",
        "    [2,3,8]\n",
        "])\n",
        "print(tensor_two_d)"
      ],
      "metadata": {
        "colab": {
          "base_uri": "https://localhost:8080/"
        },
        "id": "NjUe8mh4N96P",
        "outputId": "310f2a9c-18b3-4ac8-92e4-038813027d94"
      },
      "execution_count": null,
      "outputs": [
        {
          "output_type": "stream",
          "name": "stdout",
          "text": [
            "tf.Tensor(\n",
            "[[ 1  2  0]\n",
            " [ 3  5 -1]\n",
            " [ 1  5  6]\n",
            " [ 2  3  8]], shape=(4, 3), dtype=int32)\n"
          ]
        }
      ]
    },
    {
      "cell_type": "code",
      "source": [
        "tensor_three_d = tf.constant([\n",
        "    [\n",
        "        [1,2,0],\n",
        "        [3,5,1]\n",
        "    ],\n",
        "    [\n",
        "        [10,2,0],\n",
        "        [1, 0, 2]\n",
        "    ],\n",
        "    [\n",
        "        [5, 8, 0],\n",
        "        [2,7,0]\n",
        "    ],\n",
        "    [\n",
        "        [2,1,9],\n",
        "        [4,-3,32]\n",
        "    ]\n",
        "])\n",
        "\n",
        "print(tensor_three_d)"
      ],
      "metadata": {
        "colab": {
          "base_uri": "https://localhost:8080/"
        },
        "id": "CTwdOMUUObOz",
        "outputId": "da5cbae5-e835-46c9-af38-cd7ce37dbd91"
      },
      "execution_count": null,
      "outputs": [
        {
          "output_type": "stream",
          "name": "stdout",
          "text": [
            "tf.Tensor(\n",
            "[[[ 1  2  0]\n",
            "  [ 3  5  1]]\n",
            "\n",
            " [[10  2  0]\n",
            "  [ 1  0  2]]\n",
            "\n",
            " [[ 5  8  0]\n",
            "  [ 2  7  0]]\n",
            "\n",
            " [[ 2  1  9]\n",
            "  [ 4 -3 32]]], shape=(4, 2, 3), dtype=int32)\n"
          ]
        }
      ]
    },
    {
      "cell_type": "code",
      "source": [
        "print(tensor_three_d.shape, tensor_three_d.dtype, tensor_three_d.ndim)"
      ],
      "metadata": {
        "colab": {
          "base_uri": "https://localhost:8080/"
        },
        "id": "xUolAmv_PwOD",
        "outputId": "7383c2d8-c983-4461-c1a2-4673125b1a51"
      },
      "execution_count": null,
      "outputs": [
        {
          "output_type": "stream",
          "name": "stdout",
          "text": [
            "(4, 2, 3) <dtype: 'int32'> 3\n"
          ]
        }
      ]
    },
    {
      "cell_type": "code",
      "source": [
        "tensor_four_d = tf.constant([\n",
        "    [\n",
        "    [\n",
        "        [1,2,0],\n",
        "        [3,5,1]\n",
        "    ],\n",
        "    [\n",
        "        [10,2,0],\n",
        "        [1, 0, 2]\n",
        "    ],\n",
        "    [\n",
        "        [5, 8, 0],\n",
        "        [2,7,0]\n",
        "    ],\n",
        "    [\n",
        "        [2,1,9],\n",
        "        [4,-3,32]\n",
        "    ]\n",
        "],\n",
        "    [\n",
        "    [\n",
        "        [1,2,0],\n",
        "        [3,5,1]\n",
        "    ],\n",
        "    [\n",
        "        [10,2,0],\n",
        "        [1, 0, 2]\n",
        "    ],\n",
        "    [\n",
        "        [5, 8, 0],\n",
        "        [2,7,0]\n",
        "    ],\n",
        "    [\n",
        "        [2,1,9],\n",
        "        [4,-3,32]\n",
        "    ]\n",
        "],\n",
        "    [\n",
        "    [\n",
        "        [1,2,0],\n",
        "        [3,5,1]\n",
        "    ],\n",
        "    [\n",
        "        [10,2,0],\n",
        "        [1, 0, 2]\n",
        "    ],\n",
        "    [\n",
        "        [5, 8, 0],\n",
        "        [2,7,0]\n",
        "    ],\n",
        "    [\n",
        "        [2,1,9],\n",
        "        [4,-3,32]\n",
        "    ]\n",
        "],\n",
        "     [\n",
        "    [\n",
        "        [1,2,0],\n",
        "        [3,5,1]\n",
        "    ],\n",
        "    [\n",
        "        [10,2,0],\n",
        "        [1, 0, 2]\n",
        "    ],\n",
        "    [\n",
        "        [5, 8, 0],\n",
        "        [2,7,0]\n",
        "    ],\n",
        "    [\n",
        "        [2,1,9],\n",
        "        [4,-3,32]\n",
        "    ]\n",
        "],\n",
        "\n",
        "])\n",
        "\n",
        "print(tensor_four_d, f\"Number of dimensions: {tensor_four_d.ndim}\")"
      ],
      "metadata": {
        "colab": {
          "base_uri": "https://localhost:8080/"
        },
        "id": "RjyJ6vCeRaVk",
        "outputId": "6fa67e8d-bf1e-480d-8026-18cc81f7405d",
        "collapsed": true
      },
      "execution_count": null,
      "outputs": [
        {
          "output_type": "stream",
          "name": "stdout",
          "text": [
            "tf.Tensor(\n",
            "[[[[ 1  2  0]\n",
            "   [ 3  5  1]]\n",
            "\n",
            "  [[10  2  0]\n",
            "   [ 1  0  2]]\n",
            "\n",
            "  [[ 5  8  0]\n",
            "   [ 2  7  0]]\n",
            "\n",
            "  [[ 2  1  9]\n",
            "   [ 4 -3 32]]]\n",
            "\n",
            "\n",
            " [[[ 1  2  0]\n",
            "   [ 3  5  1]]\n",
            "\n",
            "  [[10  2  0]\n",
            "   [ 1  0  2]]\n",
            "\n",
            "  [[ 5  8  0]\n",
            "   [ 2  7  0]]\n",
            "\n",
            "  [[ 2  1  9]\n",
            "   [ 4 -3 32]]]\n",
            "\n",
            "\n",
            " [[[ 1  2  0]\n",
            "   [ 3  5  1]]\n",
            "\n",
            "  [[10  2  0]\n",
            "   [ 1  0  2]]\n",
            "\n",
            "  [[ 5  8  0]\n",
            "   [ 2  7  0]]\n",
            "\n",
            "  [[ 2  1  9]\n",
            "   [ 4 -3 32]]]\n",
            "\n",
            "\n",
            " [[[ 1  2  0]\n",
            "   [ 3  5  1]]\n",
            "\n",
            "  [[10  2  0]\n",
            "   [ 1  0  2]]\n",
            "\n",
            "  [[ 5  8  0]\n",
            "   [ 2  7  0]]\n",
            "\n",
            "  [[ 2  1  9]\n",
            "   [ 4 -3 32]]]], shape=(4, 4, 2, 3), dtype=int32) Number of dimensions: 4\n"
          ]
        }
      ]
    },
    {
      "cell_type": "code",
      "source": [
        "import numpy as np"
      ],
      "metadata": {
        "id": "GlCdxPBZeVCx"
      },
      "execution_count": null,
      "outputs": []
    },
    {
      "cell_type": "code",
      "source": [
        "np_array = np.array([1,2,4])\n",
        "print(np_array)"
      ],
      "metadata": {
        "colab": {
          "base_uri": "https://localhost:8080/"
        },
        "id": "76_v657l213r",
        "outputId": "72d599c3-a3d0-4947-ec8e-1a3cb33bd22c"
      },
      "execution_count": null,
      "outputs": [
        {
          "output_type": "stream",
          "name": "stdout",
          "text": [
            "[1 2 4]\n"
          ]
        }
      ]
    },
    {
      "cell_type": "code",
      "source": [
        "converted_to_tensor = tf.convert_to_tensor(np_array)\n",
        "print(converted_to_tensor)"
      ],
      "metadata": {
        "colab": {
          "base_uri": "https://localhost:8080/"
        },
        "id": "kAmQPX5W2_NI",
        "outputId": "c1363f97-7725-4d90-eb93-69f5c1083ee5"
      },
      "execution_count": null,
      "outputs": [
        {
          "output_type": "stream",
          "name": "stdout",
          "text": [
            "tf.Tensor([1 2 4], shape=(3,), dtype=int64)\n"
          ]
        }
      ]
    },
    {
      "cell_type": "code",
      "source": [
        "np_2d_array = np.array([[1,2,3],[4,5,6]])\n",
        "convert_2d = tf.convert_to_tensor(np_2d_array)\n",
        "print(convert_2d)"
      ],
      "metadata": {
        "colab": {
          "base_uri": "https://localhost:8080/"
        },
        "id": "NYDTMPDe3Par",
        "outputId": "1fa59197-2b33-4d64-ad80-42c65d2acc9a"
      },
      "execution_count": null,
      "outputs": [
        {
          "output_type": "stream",
          "name": "stdout",
          "text": [
            "tf.Tensor(\n",
            "[[1 2 3]\n",
            " [4 5 6]], shape=(2, 3), dtype=int64)\n"
          ]
        }
      ]
    },
    {
      "cell_type": "code",
      "source": [
        "eye_tensor = tf.eye(num_rows=5, num_columns=None, batch_shape=[2,], dtype=tf.dtypes.float32, name=None)\n",
        "\n",
        "print(eye_tensor)"
      ],
      "metadata": {
        "colab": {
          "base_uri": "https://localhost:8080/"
        },
        "id": "TrHVtFmG3kx9",
        "outputId": "9b4d1d35-64f0-4645-86ae-8101a9cb0fe2"
      },
      "execution_count": null,
      "outputs": [
        {
          "output_type": "stream",
          "name": "stdout",
          "text": [
            "tf.Tensor(\n",
            "[[[1. 0. 0. 0. 0.]\n",
            "  [0. 1. 0. 0. 0.]\n",
            "  [0. 0. 1. 0. 0.]\n",
            "  [0. 0. 0. 1. 0.]\n",
            "  [0. 0. 0. 0. 1.]]\n",
            "\n",
            " [[1. 0. 0. 0. 0.]\n",
            "  [0. 1. 0. 0. 0.]\n",
            "  [0. 0. 1. 0. 0.]\n",
            "  [0. 0. 0. 1. 0.]\n",
            "  [0. 0. 0. 0. 1.]]], shape=(2, 5, 5), dtype=float32)\n"
          ]
        }
      ]
    },
    {
      "cell_type": "code",
      "source": [
        "fill_tensor = tf.fill(\n",
        "    [3, 3,4], 5, name=None\n",
        ")\n",
        "\n",
        "print(fill_tensor)"
      ],
      "metadata": {
        "colab": {
          "base_uri": "https://localhost:8080/"
        },
        "id": "QOc3Y-qk39wG",
        "outputId": "70b1a1e7-d3f8-4bc4-94e3-98e268f8ad36"
      },
      "execution_count": null,
      "outputs": [
        {
          "output_type": "stream",
          "name": "stdout",
          "text": [
            "tf.Tensor(\n",
            "[[[5 5 5 5]\n",
            "  [5 5 5 5]\n",
            "  [5 5 5 5]]\n",
            "\n",
            " [[5 5 5 5]\n",
            "  [5 5 5 5]\n",
            "  [5 5 5 5]]\n",
            "\n",
            " [[5 5 5 5]\n",
            "  [5 5 5 5]\n",
            "  [5 5 5 5]]], shape=(3, 3, 4), dtype=int32)\n"
          ]
        }
      ]
    },
    {
      "cell_type": "code",
      "source": [
        "ones_tensor = tf.ones([4,2, 3], dtype=tf.dtypes.int32)\n",
        "print(ones_tensor)"
      ],
      "metadata": {
        "colab": {
          "base_uri": "https://localhost:8080/"
        },
        "id": "XSFuzeH85Wrl",
        "outputId": "f3dfba8b-7962-45a2-c29b-86732bc18317"
      },
      "execution_count": null,
      "outputs": [
        {
          "output_type": "stream",
          "name": "stdout",
          "text": [
            "tf.Tensor(\n",
            "[[[1 1 1]\n",
            "  [1 1 1]]\n",
            "\n",
            " [[1 1 1]\n",
            "  [1 1 1]]\n",
            "\n",
            " [[1 1 1]\n",
            "  [1 1 1]]\n",
            "\n",
            " [[1 1 1]\n",
            "  [1 1 1]]], shape=(4, 2, 3), dtype=int32)\n"
          ]
        }
      ]
    },
    {
      "cell_type": "code",
      "source": [
        "ones_like_tensor = tf.ones_like(input=fill_tensor, dtype=tf.dtypes.float32)\n",
        "print(ones_like_tensor)"
      ],
      "metadata": {
        "colab": {
          "base_uri": "https://localhost:8080/"
        },
        "id": "QGvwxrit6PnB",
        "outputId": "13e2671e-6689-48a5-f608-0751d0830a52"
      },
      "execution_count": null,
      "outputs": [
        {
          "output_type": "stream",
          "name": "stdout",
          "text": [
            "tf.Tensor(\n",
            "[[[1. 1. 1. 1.]\n",
            "  [1. 1. 1. 1.]\n",
            "  [1. 1. 1. 1.]]\n",
            "\n",
            " [[1. 1. 1. 1.]\n",
            "  [1. 1. 1. 1.]\n",
            "  [1. 1. 1. 1.]]\n",
            "\n",
            " [[1. 1. 1. 1.]\n",
            "  [1. 1. 1. 1.]\n",
            "  [1. 1. 1. 1.]]], shape=(3, 3, 4), dtype=float32)\n"
          ]
        }
      ]
    },
    {
      "cell_type": "code",
      "source": [
        "zeros_tensor = tf.zeros([3,2, 3], dtype=tf.dtypes.int32)\n",
        "print(zeros_tensor)"
      ],
      "metadata": {
        "colab": {
          "base_uri": "https://localhost:8080/"
        },
        "id": "juDMKHkq72Ol",
        "outputId": "6491f572-2e63-4783-83b8-4a307aa71af4"
      },
      "execution_count": null,
      "outputs": [
        {
          "output_type": "stream",
          "name": "stdout",
          "text": [
            "tf.Tensor(\n",
            "[[[0 0 0]\n",
            "  [0 0 0]]\n",
            "\n",
            " [[0 0 0]\n",
            "  [0 0 0]]\n",
            "\n",
            " [[0 0 0]\n",
            "  [0 0 0]]], shape=(3, 2, 3), dtype=int32)\n"
          ]
        }
      ]
    },
    {
      "cell_type": "code",
      "source": [
        "shape_of_tensor = tf.shape(input=zeros_tensor)\n",
        "print(shape_of_tensor)"
      ],
      "metadata": {
        "colab": {
          "base_uri": "https://localhost:8080/"
        },
        "id": "zV5x9XoR8BM5",
        "outputId": "464e1f38-30d7-4a65-8da4-8e5b07b3619c"
      },
      "execution_count": null,
      "outputs": [
        {
          "output_type": "stream",
          "name": "stdout",
          "text": [
            "tf.Tensor([3 2 3], shape=(3,), dtype=int32)\n"
          ]
        }
      ]
    },
    {
      "cell_type": "code",
      "source": [
        "random_tensor = tf.random.normal([2, 3, 4], mean=0.45,stddev=0.1,dtype=tf.dtypes.float32,seed=None,name=None)\n",
        "print(random_tensor)"
      ],
      "metadata": {
        "colab": {
          "base_uri": "https://localhost:8080/"
        },
        "id": "GxBDXZ_M82v-",
        "outputId": "06a70e4f-78a8-46f1-da2e-2a2efd5ce149"
      },
      "execution_count": null,
      "outputs": [
        {
          "output_type": "stream",
          "name": "stdout",
          "text": [
            "tf.Tensor(\n",
            "[[[0.46566987 0.52860916 0.3911191  0.44431645]\n",
            "  [0.32794318 0.2544353  0.5408107  0.54326713]\n",
            "  [0.40170434 0.6972556  0.41668156 0.4931044 ]]\n",
            "\n",
            " [[0.40146977 0.34540173 0.5099342  0.5406069 ]\n",
            "  [0.46402004 0.5087289  0.5282065  0.30937153]\n",
            "  [0.46432245 0.31236243 0.51284635 0.48709196]]], shape=(2, 3, 4), dtype=float32)\n"
          ]
        }
      ]
    },
    {
      "cell_type": "code",
      "source": [
        "random_uniform_tensor = tf.random.uniform([2, 3, 4], minval=8, maxval=25 ,dtype=tf.dtypes.float32,seed=None,name=None)\n",
        "print(random_uniform_tensor)"
      ],
      "metadata": {
        "colab": {
          "base_uri": "https://localhost:8080/"
        },
        "id": "pmLLJ2lY-Ft_",
        "outputId": "ac05779e-2456-4a4a-b42a-33a7881eeb82",
        "collapsed": true
      },
      "execution_count": null,
      "outputs": [
        {
          "output_type": "stream",
          "name": "stdout",
          "text": [
            "tf.Tensor(\n",
            "[[[23.828009  18.651741  19.230637  15.37781  ]\n",
            "  [12.546459  22.81413   22.868582  12.164106 ]\n",
            "  [10.30251   23.47546   22.91777   20.523056 ]]\n",
            "\n",
            " [[12.357168  10.1074295  8.884741  18.617283 ]\n",
            "  [ 9.38712   17.755713  21.823004  14.633704 ]\n",
            "  [21.98029   15.882149  16.238834  20.98468  ]]], shape=(2, 3, 4), dtype=float32)\n"
          ]
        }
      ]
    },
    {
      "cell_type": "code",
      "source": [
        "tf.random.set_seed(5)\n",
        "print(tf.random.uniform([3,], maxval=5, dtype=tf.int32, seed=10))\n",
        "print(tf.random.uniform([3,], maxval=5, dtype=tf.int32, seed=10))\n",
        "print(tf.random.uniform([3,], maxval=5, dtype=tf.int32, seed=10))\n",
        "print(tf.random.uniform([3,], maxval=5, dtype=tf.int32, seed=10))"
      ],
      "metadata": {
        "colab": {
          "base_uri": "https://localhost:8080/"
        },
        "id": "XkAf0unZFQIQ",
        "outputId": "8f2b42e1-8255-4165-bf48-a7173ae47c79",
        "collapsed": true
      },
      "execution_count": null,
      "outputs": [
        {
          "output_type": "stream",
          "name": "stdout",
          "text": [
            "tf.Tensor([4 3 1], shape=(3,), dtype=int32)\n",
            "tf.Tensor([4 3 2], shape=(3,), dtype=int32)\n",
            "tf.Tensor([1 1 1], shape=(3,), dtype=int32)\n",
            "tf.Tensor([1 3 3], shape=(3,), dtype=int32)\n"
          ]
        }
      ]
    },
    {
      "cell_type": "code",
      "source": [
        "tf.random.set_seed(5)\n",
        "print(tf.random.uniform([3,], maxval=5, dtype=tf.int32, seed=10))\n",
        "print(tf.random.uniform([3,], maxval=5, dtype=tf.int32, seed=10))\n",
        "print(tf.random.uniform([3,], maxval=5, dtype=tf.int32, seed=10))\n",
        "print(tf.random.uniform([3,], maxval=5, dtype=tf.int32, seed=10))"
      ],
      "metadata": {
        "colab": {
          "base_uri": "https://localhost:8080/"
        },
        "id": "C5QuvjnpSbiq",
        "outputId": "693e6863-871b-4ee0-89b0-a1e055b99b24",
        "collapsed": true
      },
      "execution_count": null,
      "outputs": [
        {
          "output_type": "stream",
          "name": "stdout",
          "text": [
            "tf.Tensor([4 3 1], shape=(3,), dtype=int32)\n",
            "tf.Tensor([4 3 2], shape=(3,), dtype=int32)\n",
            "tf.Tensor([1 1 1], shape=(3,), dtype=int32)\n",
            "tf.Tensor([1 3 3], shape=(3,), dtype=int32)\n"
          ]
        }
      ]
    },
    {
      "cell_type": "code",
      "source": [
        " tensor_indexed = tf.constant([3,6,2,4,6,66,7])\n",
        " print(tensor_indexed)"
      ],
      "metadata": {
        "colab": {
          "base_uri": "https://localhost:8080/"
        },
        "id": "8RZ_YzJRSf5A",
        "outputId": "b91b12dd-5bd0-456e-896e-6e03bdfa8675"
      },
      "execution_count": null,
      "outputs": [
        {
          "output_type": "stream",
          "name": "stdout",
          "text": [
            "tf.Tensor([ 3  6  2  4  6 66  7], shape=(7,), dtype=int32)\n"
          ]
        }
      ]
    },
    {
      "cell_type": "code",
      "source": [
        "print(tensor_indexed[1:-3])"
      ],
      "metadata": {
        "colab": {
          "base_uri": "https://localhost:8080/"
        },
        "id": "BrKv311_TC4D",
        "outputId": "c58e4197-2bf1-483b-f8d0-314a68803f9d"
      },
      "execution_count": null,
      "outputs": [
        {
          "output_type": "stream",
          "name": "stdout",
          "text": [
            "tf.Tensor([6 2 4], shape=(3,), dtype=int32)\n"
          ]
        }
      ]
    },
    {
      "cell_type": "code",
      "source": [
        "  print(tensor_two_d)"
      ],
      "metadata": {
        "colab": {
          "base_uri": "https://localhost:8080/"
        },
        "id": "N4qxyDkQTJ7z",
        "outputId": "f70bbfa4-ff6a-4235-a038-f7949791c418"
      },
      "execution_count": null,
      "outputs": [
        {
          "output_type": "stream",
          "name": "stdout",
          "text": [
            "tf.Tensor(\n",
            "[[ 1  2  0]\n",
            " [ 3  5 -1]\n",
            " [ 1  5  6]\n",
            " [ 2  3  8]], shape=(4, 3), dtype=int32)\n"
          ]
        }
      ]
    },
    {
      "cell_type": "code",
      "source": [
        "print(tensor_two_d[0:3, 0:2])"
      ],
      "metadata": {
        "colab": {
          "base_uri": "https://localhost:8080/"
        },
        "id": "PomLmfe4U3Q1",
        "outputId": "04fd6770-debb-4893-dcd3-97bed2848bc9"
      },
      "execution_count": null,
      "outputs": [
        {
          "output_type": "stream",
          "name": "stdout",
          "text": [
            "tf.Tensor(\n",
            "[[1 2]\n",
            " [3 5]\n",
            " [1 5]], shape=(3, 2), dtype=int32)\n"
          ]
        }
      ]
    },
    {
      "cell_type": "code",
      "source": [
        " print(tensor_two_d[...,0])"
      ],
      "metadata": {
        "colab": {
          "base_uri": "https://localhost:8080/"
        },
        "id": "KBO3Y-IVVIAN",
        "outputId": "4a2bbd53-72f5-4ebf-c6aa-1cfc15bf4b9e"
      },
      "execution_count": null,
      "outputs": [
        {
          "output_type": "stream",
          "name": "stdout",
          "text": [
            "tf.Tensor([1 3 1 2], shape=(4,), dtype=int32)\n"
          ]
        }
      ]
    },
    {
      "cell_type": "code",
      "source": [
        " print(tensor_three_d)"
      ],
      "metadata": {
        "colab": {
          "base_uri": "https://localhost:8080/"
        },
        "id": "jPTtsJVCVYoW",
        "outputId": "034c6525-8d0c-42ab-d250-b271d172583f"
      },
      "execution_count": null,
      "outputs": [
        {
          "output_type": "stream",
          "name": "stdout",
          "text": [
            "tf.Tensor(\n",
            "[[[ 1  2  0]\n",
            "  [ 3  5  1]]\n",
            "\n",
            " [[10  2  0]\n",
            "  [ 1  0  2]]\n",
            "\n",
            " [[ 5  8  0]\n",
            "  [ 2  7  0]]\n",
            "\n",
            " [[ 2  1  9]\n",
            "  [ 4 -3 32]]], shape=(4, 2, 3), dtype=int32)\n"
          ]
        }
      ]
    },
    {
      "cell_type": "code",
      "source": [
        " print(tensor_three_d[:,:,:2])"
      ],
      "metadata": {
        "colab": {
          "base_uri": "https://localhost:8080/"
        },
        "id": "cMhUnOsMWkS_",
        "outputId": "1ea42ca7-276e-4eeb-a857-263438ad3aa3"
      },
      "execution_count": null,
      "outputs": [
        {
          "output_type": "stream",
          "name": "stdout",
          "text": [
            "tf.Tensor(\n",
            "[[[ 1  2]\n",
            "  [ 3  5]]\n",
            "\n",
            " [[10  2]\n",
            "  [ 1  0]]\n",
            "\n",
            " [[ 5  8]\n",
            "  [ 2  7]]\n",
            "\n",
            " [[ 2  1]\n",
            "  [ 4 -3]]], shape=(4, 2, 2), dtype=int32)\n"
          ]
        }
      ]
    },
    {
      "cell_type": "code",
      "source": [
        "x_1 = tf.constant([1, 3, 5, 56, 7, 88, 123, 455, 0, 2], dtype=tf.float32)\n",
        "x_2 = tf.constant([1, 2, 15, 45, 2, 6, 8, 9 ,0, 2], dtype=tf.float32)\n",
        "\n",
        "print(tf.math.add(x_1, x_2))"
      ],
      "metadata": {
        "colab": {
          "base_uri": "https://localhost:8080/"
        },
        "id": "0iOMN-ePWo1c",
        "outputId": "f15d032b-1348-4ac6-a66f-46e8c43c9c65"
      },
      "execution_count": null,
      "outputs": [
        {
          "output_type": "stream",
          "name": "stdout",
          "text": [
            "tf.Tensor([  2.   5.  20. 101.   9.  94. 131. 464.   0.   4.], shape=(10,), dtype=float32)\n"
          ]
        }
      ]
    },
    {
      "cell_type": "code",
      "source": [
        "x_argmax = tf.constant([[2,20,30,3,6], [3,11,16,1,8],[14,45,23,5,27]])\n",
        "\n",
        "print(x_argmax.shape)\n",
        "print(tf.math.argmin(x_argmax, axis=0))\n",
        "print(tf.math.argmin(tensor_four_d, axis=1))"
      ],
      "metadata": {
        "colab": {
          "base_uri": "https://localhost:8080/"
        },
        "id": "HnOKk4O6k7IC",
        "outputId": "e9dd0258-32dd-4ff8-fc5c-3916a3bb4978"
      },
      "execution_count": null,
      "outputs": [
        {
          "output_type": "stream",
          "name": "stdout",
          "text": [
            "(3, 5)\n",
            "tf.Tensor([0 1 1 1 0], shape=(5,), dtype=int64)\n",
            "tf.Tensor(\n",
            "[[[0 3 0]\n",
            "  [1 3 2]]\n",
            "\n",
            " [[0 3 0]\n",
            "  [1 3 2]]\n",
            "\n",
            " [[0 3 0]\n",
            "  [1 3 2]]\n",
            "\n",
            " [[0 3 0]\n",
            "  [1 3 2]]], shape=(4, 2, 3), dtype=int64)\n"
          ]
        }
      ]
    },
    {
      "cell_type": "code",
      "source": [
        "x_argmax = tf.constant([2,20,30,3,6])\n",
        "print(tf.math.argmax(x_argmax))"
      ],
      "metadata": {
        "colab": {
          "base_uri": "https://localhost:8080/"
        },
        "id": "6KJ306A7nzaA",
        "outputId": "ea6151b4-8981-4420-9580-261691fc1941"
      },
      "execution_count": null,
      "outputs": [
        {
          "output_type": "stream",
          "name": "stdout",
          "text": [
            "tf.Tensor(2, shape=(), dtype=int64)\n"
          ]
        }
      ]
    },
    {
      "cell_type": "code",
      "source": [
        "x_equal = tf.constant([[2,4], [5,4]], dtype=tf.float32)\n",
        "y_equal = tf.constant([[2,4], [2,6]], dtype=tf.float32)\n",
        "\n",
        "print(tf.math.equal(x_equal, y_equal))\n",
        "print(x_equal.shape, y_equal.shape)"
      ],
      "metadata": {
        "id": "6zVtTQBsoCvA",
        "colab": {
          "base_uri": "https://localhost:8080/"
        },
        "outputId": "59953fd6-62ba-4813-8b2a-b77d3f65755e"
      },
      "execution_count": null,
      "outputs": [
        {
          "output_type": "stream",
          "name": "stdout",
          "text": [
            "tf.Tensor(\n",
            "[[ True  True]\n",
            " [False False]], shape=(2, 2), dtype=bool)\n",
            "(2, 2) (2, 2)\n"
          ]
        }
      ]
    },
    {
      "cell_type": "code",
      "source": [
        "print(x_equal@y_equal)"
      ],
      "metadata": {
        "colab": {
          "base_uri": "https://localhost:8080/"
        },
        "id": "nIaehXk7dPg9",
        "outputId": "7f619e27-60b7-43a2-b1aa-52a15434efeb"
      },
      "execution_count": null,
      "outputs": [
        {
          "output_type": "stream",
          "name": "stdout",
          "text": [
            "tf.Tensor(\n",
            "[[12. 32.]\n",
            " [18. 44.]], shape=(2, 2), dtype=float32)\n"
          ]
        }
      ]
    },
    {
      "cell_type": "code",
      "source": [
        "tf.transpose(x_equal)\n",
        "tf.transpose(tensor_four_d)\n"
      ],
      "metadata": {
        "colab": {
          "base_uri": "https://localhost:8080/"
        },
        "id": "DNtPrlDQkk7G",
        "outputId": "b928393e-29e6-4635-c4da-4f7a5f247421"
      },
      "execution_count": null,
      "outputs": [
        {
          "output_type": "execute_result",
          "data": {
            "text/plain": [
              "<tf.Tensor: shape=(3, 2, 4, 4), dtype=int32, numpy=\n",
              "array([[[[ 1,  1,  1,  1],\n",
              "         [10, 10, 10, 10],\n",
              "         [ 5,  5,  5,  5],\n",
              "         [ 2,  2,  2,  2]],\n",
              "\n",
              "        [[ 3,  3,  3,  3],\n",
              "         [ 1,  1,  1,  1],\n",
              "         [ 2,  2,  2,  2],\n",
              "         [ 4,  4,  4,  4]]],\n",
              "\n",
              "\n",
              "       [[[ 2,  2,  2,  2],\n",
              "         [ 2,  2,  2,  2],\n",
              "         [ 8,  8,  8,  8],\n",
              "         [ 1,  1,  1,  1]],\n",
              "\n",
              "        [[ 5,  5,  5,  5],\n",
              "         [ 0,  0,  0,  0],\n",
              "         [ 7,  7,  7,  7],\n",
              "         [-3, -3, -3, -3]]],\n",
              "\n",
              "\n",
              "       [[[ 0,  0,  0,  0],\n",
              "         [ 0,  0,  0,  0],\n",
              "         [ 0,  0,  0,  0],\n",
              "         [ 9,  9,  9,  9]],\n",
              "\n",
              "        [[ 1,  1,  1,  1],\n",
              "         [ 2,  2,  2,  2],\n",
              "         [ 0,  0,  0,  0],\n",
              "         [32, 32, 32, 32]]]], dtype=int32)>"
            ]
          },
          "metadata": {},
          "execution_count": 37
        }
      ]
    },
    {
      "cell_type": "code",
      "source": [
        "tf.linalg.inv(x_equal)"
      ],
      "metadata": {
        "colab": {
          "base_uri": "https://localhost:8080/"
        },
        "id": "kDSbQBXhj0Bz",
        "outputId": "396a026e-888e-4304-86a3-7535cc18109c"
      },
      "execution_count": null,
      "outputs": [
        {
          "output_type": "execute_result",
          "data": {
            "text/plain": [
              "<tf.Tensor: shape=(2, 2), dtype=float32, numpy=\n",
              "array([[-0.33333334,  0.33333334],\n",
              "       [ 0.4166667 , -0.16666667]], dtype=float32)>"
            ]
          },
          "metadata": {},
          "execution_count": 38
        }
      ]
    },
    {
      "cell_type": "code",
      "source": [
        "s, v, d = tf.linalg.svd(x_equal)\n",
        "print(s)\n",
        "print(v)\n",
        "print(d)"
      ],
      "metadata": {
        "colab": {
          "base_uri": "https://localhost:8080/"
        },
        "id": "SMn_kVIrr8Wk",
        "outputId": "a5e5b960-a9d7-4124-d5ab-c2c0e0ba7d09"
      },
      "execution_count": null,
      "outputs": [
        {
          "output_type": "stream",
          "name": "stdout",
          "text": [
            "tf.Tensor([7.6511536 1.5683912], shape=(2,), dtype=float32)\n",
            "tf.Tensor(\n",
            "[[-0.55925715 -0.82899433]\n",
            " [-0.82899433  0.55925703]], shape=(2, 2), dtype=float32)\n",
            "tf.Tensor(\n",
            "[[-0.68793356  0.72577363]\n",
            " [-0.72577363 -0.68793356]], shape=(2, 2), dtype=float32)\n"
          ]
        }
      ]
    },
    {
      "cell_type": "code",
      "source": [
        "import numpy as np"
      ],
      "metadata": {
        "id": "PCeOf5hGtB5D"
      },
      "execution_count": null,
      "outputs": []
    },
    {
      "cell_type": "code",
      "source": [
        "A = np.array([[2, 6, 5, 2], [2, -2, 2, 3], [1, 5, 4, 0]])\n",
        "B  = np.array([[2, 9, 0, 3, 0], [3, 6, 8, -2, 2], [1, 3, 5, 0, 1], [3, 0, 2, 0, 5]])\n",
        "\n",
        "print(A.shape, B.shape)\n",
        "\n",
        "print(\"Matmul C =: \\n\")\n",
        "print(np.matmul(A, B), \" \\n\")\n",
        "\n",
        "print(\"Dot C =: \\n\")\n",
        "print(np.dot(A, B), \" \\n\")\n",
        "\n",
        "print(\"Einsum C =: \\n\")\n",
        "print(np.einsum(\"ij,jk->ik\", A, B), \" \\n\")"
      ],
      "metadata": {
        "colab": {
          "base_uri": "https://localhost:8080/"
        },
        "id": "i4gsvmKXuS2z",
        "outputId": "df02f339-84b9-4294-aaa3-0aa797ac96d9"
      },
      "execution_count": null,
      "outputs": [
        {
          "output_type": "stream",
          "name": "stdout",
          "text": [
            "(3, 4) (4, 5)\n",
            "Matmul C =: \n",
            "\n",
            "[[33 69 77 -6 27]\n",
            " [ 9 12  0 10 13]\n",
            " [21 51 60 -7 14]]  \n",
            "\n",
            "Dot C =: \n",
            "\n",
            "[[33 69 77 -6 27]\n",
            " [ 9 12  0 10 13]\n",
            " [21 51 60 -7 14]]  \n",
            "\n",
            "Einsum C =: \n",
            "\n",
            "[[33 69 77 -6 27]\n",
            " [ 9 12  0 10 13]\n",
            " [21 51 60 -7 14]]  \n",
            "\n"
          ]
        }
      ]
    },
    {
      "cell_type": "code",
      "source": [
        "A = np.array([[2, 6, 5, 2], [2, -2, 2, 3], [1, 5, 4, 0]])\n",
        "B  = np.array([[2, 9, 0, 3], [3, 6, 8, -2], [1, 3, 5, 0]])\n",
        "\n",
        "print(A.shape, B.shape)\n",
        "print(\"Hadamard Product C =: \\n\")\n",
        "print(A * B, \" \\n\")\n",
        "\n",
        "print(\"Einsum C =: \\n\")\n",
        "print(np.einsum(\"ij,ij->ij\", A, B), \" \\n\")\n",
        "\n"
      ],
      "metadata": {
        "colab": {
          "base_uri": "https://localhost:8080/"
        },
        "id": "nydo0mbEuuRV",
        "outputId": "14b9e8ce-5547-42f4-e1a8-f8d6e61ccef9"
      },
      "execution_count": null,
      "outputs": [
        {
          "output_type": "stream",
          "name": "stdout",
          "text": [
            "(3, 4) (3, 4)\n",
            "Hadamard Product C =: \n",
            "\n",
            "[[  4  54   0   6]\n",
            " [  6 -12  16  -6]\n",
            " [  1  15  20   0]]  \n",
            "\n",
            "Einsum C =: \n",
            "\n",
            "[[  4  54   0   6]\n",
            " [  6 -12  16  -6]\n",
            " [  1  15  20   0]]  \n",
            "\n"
          ]
        }
      ]
    },
    {
      "cell_type": "code",
      "source": [
        "print(\"Transpose A =: \\n\")\n",
        "print(np.transpose(A), \" \\n\")\n",
        "\n",
        "print(\"Einsum Transpose A =: \\n\")\n",
        "print(np.einsum(\"ij -> ji\", A), \" \\n\")"
      ],
      "metadata": {
        "colab": {
          "base_uri": "https://localhost:8080/"
        },
        "id": "zZTTptjMyOqK",
        "outputId": "1d6b290c-3c33-4ec8-ddf1-f27c8e152923"
      },
      "execution_count": null,
      "outputs": [
        {
          "output_type": "stream",
          "name": "stdout",
          "text": [
            "Transpose A =: \n",
            "\n",
            "[[ 2  2  1]\n",
            " [ 6 -2  5]\n",
            " [ 5  2  4]\n",
            " [ 2  3  0]]  \n",
            "\n",
            "Einsum Transpose A =: \n",
            "\n",
            "[[ 2  2  1]\n",
            " [ 6 -2  5]\n",
            " [ 5  2  4]\n",
            " [ 2  3  0]]  \n",
            "\n"
          ]
        }
      ]
    },
    {
      "cell_type": "code",
      "source": [
        "q = np.random.randn(32, 64, 512)\n",
        "k = np.random.randn(32, 128, 512)\n",
        "\n",
        "product = np.einsum(\"bqm,bkm->bqk\", q, k)\n"
      ],
      "metadata": {
        "id": "DVCOZc8Hzqcq"
      },
      "execution_count": null,
      "outputs": []
    },
    {
      "cell_type": "code",
      "source": [
        "print(product.shape)\n",
        "print(tf.expand_dims(product, axis=1).shape)\n",
        "x_expanded = tf.expand_dims(product, axis=0)\n",
        "print(x_expanded.shape)"
      ],
      "metadata": {
        "colab": {
          "base_uri": "https://localhost:8080/"
        },
        "id": "Qd_wQ3brDczD",
        "outputId": "df2abb91-eb1e-4a4f-c223-62f3bc52cc9a"
      },
      "execution_count": null,
      "outputs": [
        {
          "output_type": "stream",
          "name": "stdout",
          "text": [
            "(32, 64, 128)\n",
            "(32, 1, 64, 128)\n",
            "(1, 32, 64, 128)\n"
          ]
        }
      ]
    },
    {
      "cell_type": "code",
      "source": [
        "print(tf.squeeze(x_expanded, axis=0).shape)"
      ],
      "metadata": {
        "colab": {
          "base_uri": "https://localhost:8080/"
        },
        "id": "zSQI8m_TFboR",
        "outputId": "aae950b8-4319-4ca4-c11c-63e61e265047"
      },
      "execution_count": null,
      "outputs": [
        {
          "output_type": "stream",
          "name": "stdout",
          "text": [
            "(32, 64, 128)\n"
          ]
        }
      ]
    },
    {
      "cell_type": "code",
      "source": [
        "t1 = tf.constant([[4, 3, 2, 6], [4, 6, 6, -1,]])\n",
        "\n",
        "tf.reshape(t1, shape=(2, -1))"
      ],
      "metadata": {
        "colab": {
          "base_uri": "https://localhost:8080/"
        },
        "id": "ALtF726EGGkH",
        "outputId": "ca932762-3ebd-42f1-cd03-b6f5d05e766f"
      },
      "execution_count": null,
      "outputs": [
        {
          "output_type": "execute_result",
          "data": {
            "text/plain": [
              "<tf.Tensor: shape=(2, 4), dtype=int32, numpy=\n",
              "array([[ 4,  3,  2,  6],\n",
              "       [ 4,  6,  6, -1]], dtype=int32)>"
            ]
          },
          "metadata": {},
          "execution_count": 47
        }
      ]
    },
    {
      "cell_type": "code",
      "source": [
        "t = tf.constant([[1,2,3],[4,5,6]])\n",
        "\n",
        "paddings = tf.constant([[1,1], [2,25]])\n",
        "\n",
        "tf.pad(t, paddings, \"CONSTANT\")"
      ],
      "metadata": {
        "colab": {
          "base_uri": "https://localhost:8080/"
        },
        "id": "uQnrjQ4SIkXy",
        "outputId": "34170939-9cf4-4426-d7a9-a99316ae90cb"
      },
      "execution_count": null,
      "outputs": [
        {
          "output_type": "execute_result",
          "data": {
            "text/plain": [
              "<tf.Tensor: shape=(4, 30), dtype=int32, numpy=\n",
              "array([[0, 0, 0, 0, 0, 0, 0, 0, 0, 0, 0, 0, 0, 0, 0, 0, 0, 0, 0, 0, 0, 0,\n",
              "        0, 0, 0, 0, 0, 0, 0, 0],\n",
              "       [0, 0, 1, 2, 3, 0, 0, 0, 0, 0, 0, 0, 0, 0, 0, 0, 0, 0, 0, 0, 0, 0,\n",
              "        0, 0, 0, 0, 0, 0, 0, 0],\n",
              "       [0, 0, 4, 5, 6, 0, 0, 0, 0, 0, 0, 0, 0, 0, 0, 0, 0, 0, 0, 0, 0, 0,\n",
              "        0, 0, 0, 0, 0, 0, 0, 0],\n",
              "       [0, 0, 0, 0, 0, 0, 0, 0, 0, 0, 0, 0, 0, 0, 0, 0, 0, 0, 0, 0, 0, 0,\n",
              "        0, 0, 0, 0, 0, 0, 0, 0]], dtype=int32)>"
            ]
          },
          "metadata": {},
          "execution_count": 48
        }
      ]
    },
    {
      "cell_type": "code",
      "source": [
        "x = tf.constant([1,2])\n",
        "x_var = tf.Variable(x, name=\"var1\")\n",
        "x_var.assign_sub([12, 21])\n",
        "print(x_var)"
      ],
      "metadata": {
        "colab": {
          "base_uri": "https://localhost:8080/"
        },
        "id": "UGYzCTV1hvNB",
        "outputId": "c280e3ee-f9ab-44fc-9fbc-c33e697ff974"
      },
      "execution_count": null,
      "outputs": [
        {
          "output_type": "stream",
          "name": "stdout",
          "text": [
            "<tf.Variable 'var1:0' shape=(2,) dtype=int32, numpy=array([-11, -19], dtype=int32)>\n"
          ]
        }
      ]
    },
    {
      "cell_type": "code",
      "source": [
        "with tf.device('GPU:0'):\n",
        "  x_var = tf.Variable(0.2)\n",
        "\n",
        "print(x_var.device)"
      ],
      "metadata": {
        "colab": {
          "base_uri": "https://localhost:8080/"
        },
        "id": "eCDFsROXwhA7",
        "outputId": "fdc2f073-6ac8-423d-8dfe-abe924e878ed"
      },
      "execution_count": null,
      "outputs": [
        {
          "output_type": "stream",
          "name": "stdout",
          "text": [
            "/job:localhost/replica:0/task:0/device:GPU:0\n"
          ]
        }
      ]
    },
    {
      "cell_type": "code",
      "source": [],
      "metadata": {
        "id": "JTi_hM6PyG9S"
      },
      "execution_count": null,
      "outputs": []
    }
  ]
}